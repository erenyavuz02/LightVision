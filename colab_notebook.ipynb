{
 "cells": [
  {
   "cell_type": "markdown",
   "id": "e80b2c58",
   "metadata": {},
   "source": [
    "# Pull the LightVision repository"
   ]
  },
  {
   "cell_type": "code",
   "execution_count": 1,
   "id": "99e46173",
   "metadata": {},
   "outputs": [
    {
     "name": "stdout",
     "output_type": "stream",
     "text": [
      "Running locally - repository clone skipped\n"
     ]
    }
   ],
   "source": [
    "try:\n",
    "    import google.colab\n",
    "    !git clone https://github.com/erenyavuz02/LightVision.git\n",
    "    print(\"Repository cloned in Google Colab\")\n",
    "except ImportError:\n",
    "    print(\"Running locally - repository clone skipped\")"
   ]
  },
  {
   "cell_type": "markdown",
   "id": "3fd645c1",
   "metadata": {},
   "source": [
    "# Set the config manager to use the local config file"
   ]
  },
  {
   "cell_type": "code",
   "execution_count": 2,
   "id": "588adf44",
   "metadata": {},
   "outputs": [
    {
     "name": "stdout",
     "output_type": "stream",
     "text": [
      "Running locally\n",
      "Project root: /Users/erenyavuz/Desktop/KU/25 Spring/COMP447/Project/Repo/FlightVision\n"
     ]
    }
   ],
   "source": [
    "import os\n",
    "import sys\n",
    "\n",
    "# Add project root to path\n",
    "try:\n",
    "    # Try to detect if running in Google Colab\n",
    "    import google.colab\n",
    "    # If running in Google Colab, you need to manually set the project root\n",
    "    # Update this path to match where you cloned/uploaded your project in Colab\n",
    "    project_root = '/content/LightVision'  # Adjust this path as needed for your Colab setup\n",
    "    print(\"Running in Google Colab\")\n",
    "except ImportError:\n",
    "    # Running locally\n",
    "    script_dir = os.path.dirname(os.path.abspath(\"__file__\"))\n",
    "    project_root = os.path.abspath(os.path.join(script_dir, '.'))\n",
    "    print(\"Running locally\")\n",
    "\n",
    "if project_root not in sys.path:\n",
    "    sys.path.insert(0, project_root)\n",
    "\n",
    "print(f\"Project root: {project_root}\")\n",
    "\n",
    "# Import ConfigManager\n",
    "from utils.config import ConfigManager\n"
   ]
  },
  {
   "cell_type": "code",
   "execution_count": 3,
   "id": "d5232990",
   "metadata": {},
   "outputs": [],
   "source": [
    "config = ConfigManager(config_path = 'config/config.yaml')\n",
    "\n",
    "# set the project root in the config project: \n",
    "config.update('project.root', project_root)"
   ]
  },
  {
   "cell_type": "markdown",
   "id": "8bdf2636",
   "metadata": {},
   "source": [
    "# Download the flickr dataset"
   ]
  },
  {
   "cell_type": "code",
   "execution_count": 5,
   "id": "799fce8f",
   "metadata": {},
   "outputs": [
    {
     "ename": "AttributeError",
     "evalue": "module 'functions.dataset' has no attribute 'DatasetDownloader'",
     "output_type": "error",
     "traceback": [
      "\u001b[0;31m---------------------------------------------------------------------------\u001b[0m",
      "\u001b[0;31mAttributeError\u001b[0m                            Traceback (most recent call last)",
      "Cell \u001b[0;32mIn[5], line 5\u001b[0m\n\u001b[1;32m      2\u001b[0m \u001b[38;5;28;01mfrom\u001b[39;00m \u001b[38;5;21;01mfunctions\u001b[39;00m \u001b[38;5;28;01mimport\u001b[39;00m dataset\n\u001b[1;32m      3\u001b[0m \u001b[38;5;28;01mfrom\u001b[39;00m \u001b[38;5;21;01mpathlib\u001b[39;00m \u001b[38;5;28;01mimport\u001b[39;00m Path\n\u001b[0;32m----> 5\u001b[0m datasetDownloader \u001b[38;5;241m=\u001b[39m dataset\u001b[38;5;241m.\u001b[39mDatasetDownloader(config)\n\u001b[1;32m      7\u001b[0m \u001b[38;5;66;03m# Download dataset - removed extra config parameter\u001b[39;00m\n\u001b[1;32m      8\u001b[0m \u001b[38;5;28;01mif\u001b[39;00m datasetDownloader\u001b[38;5;241m.\u001b[39mdownload_dataset(verbose\u001b[38;5;241m=\u001b[39m\u001b[38;5;28;01mTrue\u001b[39;00m):\n\u001b[1;32m      9\u001b[0m     \u001b[38;5;66;03m# Verify dataset\u001b[39;00m\n",
      "\u001b[0;31mAttributeError\u001b[0m: module 'functions.dataset' has no attribute 'DatasetDownloader'"
     ]
    }
   ],
   "source": [
    "# Download Flickr8k dataset\n",
    "from functions import dataset\n",
    "from pathlib import Path\n",
    "\n",
    "datasetDownloader = dataset.DatasetDownloader(config)\n",
    "\n",
    "# Download dataset - removed extra config parameter\n",
    "if datasetDownloader.download_dataset(verbose=True):\n",
    "    # Verify dataset\n",
    "    images_dir = Path(config.get('project.root')) / 'data' / 'Images'\n",
    "    image_count = len(list(images_dir.glob('*.jpg')))\n",
    "    print(f\"✅ Flickr8k Dataset: {image_count:,} images ready\")\n",
    "else:\n",
    "    print(\"❌ Dataset download failed\")"
   ]
  },
  {
   "cell_type": "markdown",
   "id": "4935f081",
   "metadata": {},
   "source": [
    "# Download the base model"
   ]
  },
  {
   "cell_type": "code",
   "execution_count": null,
   "id": "07cbab62",
   "metadata": {},
   "outputs": [
    {
     "name": "stdout",
     "output_type": "stream",
     "text": [
      "✅ Base model already exists.\n",
      "🚀 Base model ready for training!\n"
     ]
    },
    {
     "name": "stderr",
     "output_type": "stream",
     "text": [
      "/opt/anaconda3/lib/python3.12/site-packages/timm/models/layers/__init__.py:48: FutureWarning: Importing from timm.models.layers is deprecated, please import via timm.layers\n",
      "  warnings.warn(f\"Importing from {__name__} is deprecated, please import via timm.layers\", FutureWarning)\n"
     ]
    },
    {
     "name": "stderr",
     "output_type": "stream",
     "text": [
      "/opt/anaconda3/lib/python3.12/site-packages/timm/models/layers/__init__.py:48: FutureWarning: Importing from timm.models.layers is deprecated, please import via timm.layers\n",
      "  warnings.warn(f\"Importing from {__name__} is deprecated, please import via timm.layers\", FutureWarning)\n"
     ]
    },
    {
     "name": "stdout",
     "output_type": "stream",
     "text": [
      "✅ Base model already exists.\n",
      "🚀 Base model ready for training!\n"
     ]
    },
    {
     "name": "stderr",
     "output_type": "stream",
     "text": [
      "/opt/anaconda3/lib/python3.12/site-packages/timm/models/layers/__init__.py:48: FutureWarning: Importing from timm.models.layers is deprecated, please import via timm.layers\n",
      "  warnings.warn(f\"Importing from {__name__} is deprecated, please import via timm.layers\", FutureWarning)\n"
     ]
    },
    {
     "name": "stderr",
     "output_type": "stream",
     "text": [
      "/opt/anaconda3/lib/python3.12/site-packages/timm/models/layers/__init__.py:48: FutureWarning: Importing from timm.models.layers is deprecated, please import via timm.layers\n",
      "  warnings.warn(f\"Importing from {__name__} is deprecated, please import via timm.layers\", FutureWarning)\n"
     ]
    },
    {
     "name": "stdout",
     "output_type": "stream",
     "text": [
      "✅ Base model already exists.\n",
      "🚀 Base model ready for training!\n"
     ]
    }
   ],
   "source": [
    "# Download base MobileCLIP model\n",
    "from functions.model import download_base_model\n",
    "\n",
    "if download_base_model(config, verbose=True):\n",
    "    print(\"🚀 Base model ready for training!\")\n",
    "else:\n",
    "    print(\"❌ Base model download failed\")"
   ]
  },
  {
   "cell_type": "markdown",
   "id": "0ecd43cb",
   "metadata": {},
   "source": [
    "# Load the base model"
   ]
  }
 ],
 "metadata": {
  "kernelspec": {
   "display_name": "base",
   "language": "python",
   "name": "python3"
  },
  "language_info": {
   "codemirror_mode": {
    "name": "ipython",
    "version": 3
   },
   "file_extension": ".py",
   "mimetype": "text/x-python",
   "name": "python",
   "nbconvert_exporter": "python",
   "pygments_lexer": "ipython3",
   "version": "3.12.2"
  }
 },
 "nbformat": 4,
 "nbformat_minor": 5
}
