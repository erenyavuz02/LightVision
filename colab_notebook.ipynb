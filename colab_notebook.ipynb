{
 "cells": [
  {
   "cell_type": "markdown",
   "id": "e80b2c58",
   "metadata": {},
   "source": [
    "# Pull the LightVision repository"
   ]
  },
  {
   "cell_type": "code",
   "execution_count": null,
   "id": "4612af3d",
   "metadata": {},
   "outputs": [],
   "source": [
    "!pip install open_clip_torch faiss_cpu --quiet"
   ]
  },
  {
   "cell_type": "code",
   "execution_count": null,
   "id": "99e46173",
   "metadata": {},
   "outputs": [],
   "source": [
    "try:\n",
    "    import google.colab\n",
    "    !git clone https://github.com/erenyavuz02/LightVision.git\n",
    "    print(\"Repository cloned in Google Colab\")\n",
    "except ImportError:\n",
    "    print(\"Running locally - repository clone skipped\")"
   ]
  },
  {
   "cell_type": "markdown",
   "id": "3fd645c1",
   "metadata": {},
   "source": [
    "# Set the config manager to use the local config file"
   ]
  },
  {
   "cell_type": "code",
   "execution_count": null,
   "id": "588adf44",
   "metadata": {},
   "outputs": [],
   "source": [
    "import os\n",
    "import sys\n",
    "\n",
    "# Add project root to path\n",
    "try:\n",
    "    # Try to detect if running in Google Colab\n",
    "    import google.colab\n",
    "    # If running in Google Colab, you need to manually set the project root\n",
    "    # Update this path to match where you cloned/uploaded your project in Colab\n",
    "    project_root = '/content/LightVision'  # Adjust this path as needed for your Colab setup\n",
    "    print(\"Running in Google Colab\")\n",
    "except ImportError:\n",
    "    # Running locally\n",
    "    script_dir = os.path.dirname(os.path.abspath(\"__file__\"))\n",
    "    project_root = os.path.abspath(os.path.join(script_dir, '.'))\n",
    "    print(\"Running locally\")\n",
    "    \n",
    "\n",
    "if project_root not in sys.path:\n",
    "    sys.path.insert(0, project_root)\n",
    "\n",
    "print(f\"Project root: {project_root}\")\n",
    "\n",
    "# Import ConfigManager\n",
    "from utils.config import ConfigManager\n"
   ]
  },
  {
   "cell_type": "code",
   "execution_count": null,
   "id": "d5232990",
   "metadata": {},
   "outputs": [],
   "source": [
    "config = ConfigManager(config_path = os.path.join(project_root, 'config/config.yaml'))\n",
    "\n",
    "# set the project root in the config project: \n",
    "config.update('project.root', project_root)"
   ]
  },
  {
   "cell_type": "markdown",
   "id": "8bdf2636",
   "metadata": {},
   "source": [
    "# Download the flickr dataset"
   ]
  },
  {
   "cell_type": "code",
   "execution_count": null,
   "id": "799fce8f",
   "metadata": {},
   "outputs": [],
   "source": [
    "# Download Flickr8k dataset\n",
    "from functions.dataset import DatasetDownloader\n",
    "from pathlib import Path\n",
    "\n",
    "datasetDownloader = DatasetDownloader(config)\n",
    "\n",
    "# Download dataset - removed extra config parameter\n",
    "if datasetDownloader.download_dataset(verbose=True):\n",
    "    # Verify dataset\n",
    "    images_dir = Path(config.get('project.root')) / 'data' / 'Images'\n",
    "    image_count = len(list(images_dir.glob('*.jpg')))\n",
    "    print(f\"✅ Flickr8k Dataset: {image_count:,} images ready\")\n",
    "else:\n",
    "    print(\"❌ Dataset download failed\")\n",
    "    "
   ]
  },
  {
   "cell_type": "markdown",
   "id": "4935f081",
   "metadata": {},
   "source": [
    "# Download the base model"
   ]
  },
  {
   "cell_type": "code",
   "execution_count": null,
   "id": "07cbab62",
   "metadata": {},
   "outputs": [],
   "source": [
    "# Download base MobileCLIP model\n",
    "from functions.model import download_base_model\n",
    "\n",
    "if download_base_model(config, verbose=True):\n",
    "    print(\"🚀 Base model ready for training!\")\n",
    "else:\n",
    "    print(\"❌ Base model download failed\")"
   ]
  },
  {
   "cell_type": "markdown",
   "id": "0ecd43cb",
   "metadata": {},
   "source": [
    "# Load the base model"
   ]
  },
  {
   "cell_type": "code",
   "execution_count": null,
   "id": "7cae271a",
   "metadata": {},
   "outputs": [],
   "source": [
    "from functions.model import load_model\n",
    "\n",
    "base_model, preprocess, tokenizer = load_model(config, verbose=True)"
   ]
  },
  {
   "cell_type": "markdown",
   "id": "51f00579",
   "metadata": {},
   "source": [
    "# Test Custom Dataset with Train/Test Split\n",
    "\n",
    "Test the CustomDataset class to ensure proper train/test splitting without data leakage."
   ]
  },
  {
   "cell_type": "code",
   "execution_count": null,
   "id": "effc926b",
   "metadata": {},
   "outputs": [],
   "source": [
    "# Test CustomDataset class with single instance\n",
    "from functions.dataset import CustomDataset\n",
    "\n",
    "# set the captions file here\n",
    "config.update('dataset.captions_file', 'all_captions.json')  # Use all captions for testing\n",
    "\n",
    "# Create a single dataset instance\n",
    "print(\"Creating dataset instance...\")\n",
    "dataset = CustomDataset(config, test_ratio=0.125, transform=preprocess)\n"
   ]
  },
  {
   "cell_type": "markdown",
   "id": "57463a6e",
   "metadata": {},
   "source": [
    "# Evaluate the base model"
   ]
  },
  {
   "cell_type": "code",
   "execution_count": null,
   "id": "3b84fd59",
   "metadata": {},
   "outputs": [],
   "source": [
    "from functions.evaluate import evaluate_dataset\n",
    "\n",
    "# Evaluate the base model\n",
    "print(\"Evaluating base model performance...\")\n",
    "\n",
    "# Run evaluation\n",
    "evaluation_results = evaluate_dataset(\n",
    "    model=base_model,\n",
    "    testDataset=dataset,\n",
    "    config=config,\n",
    "    tokenizer = tokenizer,\n",
    "    k_values=[1, 5, 10, 20],  # You can customize k values\n",
    "    force_rebuild_index=True,  # Set to True to force rebuild FAISS index\n",
    "    verbose=True,\n",
    "    only_test=False  # Set to True to evaluate only on the test set\n",
    ")\n",
    "\n",
    "# The results will be automatically saved and printed\n",
    "print(\"Evaluation complete!\")"
   ]
  },
  {
   "cell_type": "markdown",
   "id": "97becc9b",
   "metadata": {},
   "source": [
    "# Model Training with Custom Dataset\n",
    "\n",
    "Now we'll train our model using the custom dataset with positional embedding modifications. This will:\n",
    "1. Apply the positional embedding strategy to improve text encoding\n",
    "2. Train the modified model on our custom dataset\n",
    "3. Track training progress with real-time visualizations"
   ]
  },
  {
   "cell_type": "code",
   "execution_count": null,
   "id": "13c645a7",
   "metadata": {},
   "outputs": [],
   "source": [
    "# Import training functions\n",
    "from functions.train import train_model\n",
    "\n",
    "# Set training parameters\n",
    "training_config = {\n",
    "    'num_epochs': 15,\n",
    "    'batch_size': 8,  \n",
    "    'learning_rate': 1e-4,\n",
    "}\n",
    "\n",
    "print(\"Starting training process...\")\n",
    "print(f\"Configuration: {training_config}\")\n",
    "print(\"\\n\" + \"=\"*60)"
   ]
  },
  {
   "cell_type": "code",
   "execution_count": null,
   "id": "cb5dcd36",
   "metadata": {},
   "outputs": [],
   "source": [
    "# Train the model with positional embedding modifications\n",
    "trained_model = train_model(\n",
    "    model= base_model,  # Your original CLIP model\n",
    "    config=config,  # Your existing config\n",
    "    dataset = dataset,\n",
    "    num_epochs=training_config['num_epochs'],\n",
    "    batch_size=training_config['batch_size'],\n",
    "    learning_rate=training_config['learning_rate'],\n",
    "    tokenizer=tokenizer,  # Tokenizer for text processing\n",
    ")\n",
    "\n",
    "print(\"\\n🎉 Training completed successfully!\")\n",
    "print(\"The model has been trained with:\")\n",
    "print(\"✓ Modified positional embeddings\")\n",
    "print(\"✓ Contrastive learning approach\")"
   ]
  },
  {
   "cell_type": "code",
   "execution_count": null,
   "id": "2c2a2138",
   "metadata": {},
   "outputs": [],
   "source": [
    "# Load the best model for further evaluation\n",
    "import torch\n",
    "\n",
    "# Load the best saved model\n",
    "checkpoint = torch.load('best_model.pth')\n",
    "base_model.load_state_dict(checkpoint['model_state_dict'])\n",
    "\n",
    "print(\"Best model loaded!\")\n",
    "print(f\"Best validation loss achieved: {checkpoint['val_loss']:.4f}\")\n",
    "print(f\"Best model was saved at epoch: {checkpoint['epoch'] + 1}\")\n",
    "\n",
    "# You can now use this trained model for inference\n",
    "#base_model.eval()"
   ]
  },
  {
   "cell_type": "markdown",
   "id": "44668791",
   "metadata": {},
   "source": [
    "# Evaluate the trained model"
   ]
  },
  {
   "cell_type": "code",
   "execution_count": null,
   "id": "b8d77507",
   "metadata": {},
   "outputs": [],
   "source": [
    "# evaluate the trained model\n",
    "evaluation_results = evaluate_dataset(\n",
    "    model=base_model,\n",
    "    testDataset=dataset,\n",
    "    config=config,\n",
    "    k_values=[1, 5, 10, 20],  # You can customize k values\n",
    "    force_rebuild_index=True,  # Set to True to force rebuild FAISS index\n",
    "    verbose=True,\n",
    "    only_test=True  # Set to True to evaluate only on the test set\n",
    ")\n",
    "# The results will be automatically saved and printed\n",
    "print(\"Evaluation of the trained model complete!\")\n",
    "\n"
   ]
  }
 ],
 "metadata": {
  "kernelspec": {
   "display_name": "base",
   "language": "python",
   "name": "python3"
  },
  "language_info": {
   "codemirror_mode": {
    "name": "ipython",
    "version": 3
   },
   "file_extension": ".py",
   "mimetype": "text/x-python",
   "name": "python",
   "nbconvert_exporter": "python",
   "pygments_lexer": "ipython3",
   "version": "3.12.2"
  }
 },
 "nbformat": 4,
 "nbformat_minor": 5
}
