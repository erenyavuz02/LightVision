{
 "cells": [
  {
   "cell_type": "markdown",
   "id": "e80b2c58",
   "metadata": {},
   "source": [
    "# Pull the LightVision repository"
   ]
  },
  {
   "cell_type": "code",
   "execution_count": 1,
   "id": "99e46173",
   "metadata": {},
   "outputs": [
    {
     "name": "stdout",
     "output_type": "stream",
     "text": [
      "Running locally - repository clone skipped\n"
     ]
    }
   ],
   "source": [
    "try:\n",
    "    import google.colab\n",
    "    !git clone https://github.com/erenyavuz02/LightVision.git\n",
    "    print(\"Repository cloned in Google Colab\")\n",
    "except ImportError:\n",
    "    print(\"Running locally - repository clone skipped\")"
   ]
  },
  {
   "cell_type": "markdown",
   "id": "3fd645c1",
   "metadata": {},
   "source": [
    "# Set the config manager to use the local config file"
   ]
  },
  {
   "cell_type": "code",
   "execution_count": 4,
   "id": "588adf44",
   "metadata": {},
   "outputs": [
    {
     "name": "stdout",
     "output_type": "stream",
     "text": [
      "Running locally\n",
      "Project root: /Users/damdam/Desktop/447 project/code/LightVision\n"
     ]
    }
   ],
   "source": [
    "import os\n",
    "import sys\n",
    "\n",
    "# Add project root to path\n",
    "try:\n",
    "    # Try to detect if running in Google Colab\n",
    "    import google.colab\n",
    "    # If running in Google Colab, you need to manually set the project root\n",
    "    # Update this path to match where you cloned/uploaded your project in Colab\n",
    "    project_root = '/content/LightVision'  # Adjust this path as needed for your Colab setup\n",
    "    print(\"Running in Google Colab\")\n",
    "except ImportError:\n",
    "    # Running locally\n",
    "    script_dir = os.path.dirname(os.path.abspath(\"__file__\"))\n",
    "    project_root = os.path.abspath(os.path.join(script_dir, '.'))\n",
    "    print(\"Running locally\")\n",
    "\n",
    "if project_root not in sys.path:\n",
    "    sys.path.insert(0, project_root)\n",
    "\n",
    "print(f\"Project root: {project_root}\")\n",
    "\n",
    "# Import ConfigManager\n",
    "from utils.config import ConfigManager\n"
   ]
  },
  {
   "cell_type": "code",
   "execution_count": 5,
   "id": "d5232990",
   "metadata": {},
   "outputs": [],
   "source": [
    "config = ConfigManager(config_path = 'config/config.yaml')\n",
    "\n",
    "# set the project root in the config project: \n",
    "config.update('project.root', project_root)"
   ]
  },
  {
   "cell_type": "markdown",
   "id": "8bdf2636",
   "metadata": {},
   "source": [
    "# Download the flickr dataset"
   ]
  },
  {
   "cell_type": "code",
   "execution_count": 6,
   "id": "799fce8f",
   "metadata": {},
   "outputs": [
    {
     "name": "stdout",
     "output_type": "stream",
     "text": [
      "Starting download process for Flickr8k...\n",
      "Downloading dataset...\n",
      "Downloading from https://www.kaggle.com/api/v1/datasets/download/adityajn105/flickr8k\n",
      "Saving to: /Users/damdam/Desktop/447 project/code/LightVision/data/flickr8k.zip\n",
      "Progress: 78.4%Unexpected error during download: [Errno 28] No space left on device\n",
      "❌ Failed to set up dataset: [Errno 28] No space left on device\n",
      "❌ Dataset download failed\n",
      "Unexpected error during download: [Errno 28] No space left on device\n",
      "❌ Failed to set up dataset: [Errno 28] No space left on device\n",
      "❌ Dataset download failed\n"
     ]
    }
   ],
   "source": [
    "# Download Flickr8k dataset\n",
    "from functions.dataset import DatasetDownloader\n",
    "from pathlib import Path\n",
    "\n",
    "datasetDownloader = DatasetDownloader(config)\n",
    "\n",
    "# Download dataset - removed extra config parameter\n",
    "if datasetDownloader.download_dataset(verbose=True):\n",
    "    # Verify dataset\n",
    "    images_dir = Path(config.get('project.root')) / 'data' / 'Images'\n",
    "    image_count = len(list(images_dir.glob('*.jpg')))\n",
    "    print(f\"✅ Flickr8k Dataset: {image_count:,} images ready\")\n",
    "else:\n",
    "    print(\"❌ Dataset download failed\")"
   ]
  },
  {
   "cell_type": "markdown",
   "id": "4935f081",
   "metadata": {},
   "source": [
    "# Download the base model"
   ]
  },
  {
   "cell_type": "code",
   "execution_count": 6,
   "id": "07cbab62",
   "metadata": {},
   "outputs": [
    {
     "name": "stderr",
     "output_type": "stream",
     "text": [
      "/opt/anaconda3/lib/python3.12/site-packages/timm/models/layers/__init__.py:48: FutureWarning: Importing from timm.models.layers is deprecated, please import via timm.layers\n",
      "  warnings.warn(f\"Importing from {__name__} is deprecated, please import via timm.layers\", FutureWarning)\n"
     ]
    },
    {
     "name": "stdout",
     "output_type": "stream",
     "text": [
      "✅ Base model already exists.\n",
      "🚀 Base model ready for training!\n"
     ]
    }
   ],
   "source": [
    "# Download base MobileCLIP model\n",
    "from functions.model import download_base_model\n",
    "\n",
    "if download_base_model(config, verbose=True):\n",
    "    print(\"🚀 Base model ready for training!\")\n",
    "else:\n",
    "    print(\"❌ Base model download failed\")"
   ]
  },
  {
   "cell_type": "markdown",
   "id": "0ecd43cb",
   "metadata": {},
   "source": [
    "# Load the base model"
   ]
  },
  {
   "cell_type": "code",
   "execution_count": 7,
   "id": "7cae271a",
   "metadata": {},
   "outputs": [
    {
     "name": "stdout",
     "output_type": "stream",
     "text": [
      "💻 CUDA not available, using CPU\n",
      "Loading mobileclip_s0 model...\n",
      "Loading from checkpoint: /Users/erenyavuz/Desktop/KU/25 Spring/COMP447/Project/Repo/FlightVision/checkpoints/mobileclip_s0.pt\n",
      "✅ Model loaded successfully on cpu\n"
     ]
    }
   ],
   "source": [
    "from functions.model import load_model\n",
    "\n",
    "base_model, preprocess, tokenizer = load_model(config, verbose=True)"
   ]
  },
  {
   "cell_type": "markdown",
   "id": "51f00579",
   "metadata": {},
   "source": [
    "# Test Custom Dataset with Train/Test Split\n",
    "\n",
    "Test the CustomDataset class to ensure proper train/test splitting without data leakage."
   ]
  },
  {
   "cell_type": "code",
   "execution_count": 8,
   "id": "effc926b",
   "metadata": {},
   "outputs": [
    {
     "name": "stdout",
     "output_type": "stream",
     "text": [
      "Creating dataset instance...\n"
     ]
    }
   ],
   "source": [
    "# Test CustomDataset class with single instance\n",
    "from functions.dataset import CustomDataset\n",
    "\n",
    "# Create a single dataset instance\n",
    "print(\"Creating dataset instance...\")\n",
    "dataset = CustomDataset(config, test_ratio=0.125, transform=preprocess)\n"
   ]
  },
  {
   "cell_type": "markdown",
   "id": "57463a6e",
   "metadata": {},
   "source": [
    "# Evaluate the base model"
   ]
  },
  {
   "cell_type": "code",
   "execution_count": null,
   "id": "3b84fd59",
   "metadata": {},
   "outputs": [
    {
     "name": "stdout",
     "output_type": "stream",
     "text": [
      "Evaluating base model performance...\n",
      "Starting dataset evaluation...\n",
      "Model: mobileclip_s0\n",
      "Device: cpu\n",
      "Dataset split: 5110 train, 730 test\n",
      "\n",
      "==================================================\n",
      "Evaluating train split\n",
      "==================================================\n",
      "Building new FAISS index...\n",
      "Extracting image embeddings for train split...\n",
      "Processing batch 1/160\n",
      "Processing batch 11/160\n",
      "Processing batch 21/160\n",
      "Processing batch 31/160\n",
      "Processing batch 41/160\n",
      "Processing batch 51/160\n",
      "Processing batch 61/160\n",
      "Processing batch 71/160\n",
      "Processing batch 81/160\n",
      "Processing batch 91/160\n",
      "Processing batch 101/160\n",
      "Processing batch 111/160\n",
      "Processing batch 121/160\n",
      "Processing batch 131/160\n",
      "Processing batch 141/160\n",
      "Processing batch 151/160\n",
      "Extracted 5110 image embeddings with dimension 512\n",
      "Building FAISS index...\n",
      "FAISS index built with 5110 vectors\n",
      "Index saved to /Users/erenyavuz/Desktop/KU/25 Spring/COMP447/Project/Repo/FlightVision/data/faiss_cache/mobileclip_s0_train_index.faiss\n",
      "Metadata saved to /Users/erenyavuz/Desktop/KU/25 Spring/COMP447/Project/Repo/FlightVision/data/faiss_cache/mobileclip_s0_train_metadata.pkl\n",
      "Evaluating retrieval on train split...\n",
      "Processing 5110 queries...\n",
      "Processing query 1/5110\n"
     ]
    }
   ],
   "source": [
    "from functions.evaluate import evaluate_dataset\n",
    "\n",
    "# Evaluate the base model\n",
    "print(\"Evaluating base model performance...\")\n",
    "\n",
    "# Run evaluation\n",
    "evaluation_results = evaluate_dataset(\n",
    "    model=base_model,\n",
    "    testDataset=dataset,\n",
    "    config=config,\n",
    "    k_values=[1, 5, 10, 20],  # You can customize k values\n",
    "    force_rebuild_index=False,  # Set to True to force rebuild FAISS index\n",
    "    verbose=True\n",
    ")\n",
    "\n",
    "# The results will be automatically saved and printed\n",
    "print(\"Evaluation complete!\")"
   ]
  },
  {
   "cell_type": "markdown",
   "id": "97becc9b",
   "metadata": {},
   "source": [
    "# Model Training with Custom Dataset\n",
    "\n",
    "Now we'll train our model using the custom dataset with positional embedding modifications. This will:\n",
    "1. Apply the positional embedding strategy to improve text encoding\n",
    "2. Train the modified model on our custom dataset\n",
    "3. Track training progress with real-time visualizations"
   ]
  },
  {
   "cell_type": "code",
   "execution_count": null,
   "id": "13c645a7",
   "metadata": {},
   "outputs": [],
   "source": [
    "# Import training functions\n",
    "from functions.train import train_model\n",
    "\n",
    "# Set training parameters\n",
    "training_config = {\n",
    "    'num_epochs': 15,\n",
    "    'batch_size': 16,  \n",
    "    'learning_rate': 1e-4,\n",
    "}\n",
    "\n",
    "print(\"Starting training process...\")\n",
    "print(f\"Configuration: {training_config}\")\n",
    "print(\"\\n\" + \"=\"*60)"
   ]
  },
  {
   "cell_type": "code",
   "execution_count": null,
   "id": "cb5dcd36",
   "metadata": {},
   "outputs": [],
   "source": [
    "# Train the model with positional embedding modifications\n",
    "trained_model = train_model(\n",
    "    model= base_model,  # Your original CLIP model\n",
    "    config=config,  # Your existing config\n",
    "    dataset = dataset,\n",
    "    num_epochs=training_config['num_epochs'],\n",
    "    batch_size=training_config['batch_size'],\n",
    "    learning_rate=training_config['learning_rate']\n",
    ")\n",
    "\n",
    "print(\"\\n🎉 Training completed successfully!\")\n",
    "print(\"The model has been trained with:\")\n",
    "print(\"✓ Modified positional embeddings\")\n",
    "print(\"✓ Contrastive learning approach\")"
   ]
  },
  {
   "cell_type": "code",
   "execution_count": null,
   "id": "2c2a2138",
   "metadata": {},
   "outputs": [],
   "source": [
    "# Load the best model for further evaluation\n",
    "import torch\n",
    "\n",
    "# Load the best saved model\n",
    "checkpoint = torch.load('best_model.pth')\n",
    "base_model.load_state_dict(checkpoint['model_state_dict'])\n",
    "\n",
    "print(\"Best model loaded!\")\n",
    "print(f\"Best validation loss achieved: {checkpoint['val_loss']:.4f}\")\n",
    "print(f\"Best model was saved at epoch: {checkpoint['epoch'] + 1}\")\n",
    "\n",
    "# You can now use this trained model for inference\n",
    "#base_model.eval()"
   ]
  }
 ],
 "metadata": {
  "kernelspec": {
   "display_name": "PyTorch",
   "language": "python",
   "name": "python3"
  },
  "language_info": {
   "codemirror_mode": {
    "name": "ipython",
    "version": 3
   },
   "file_extension": ".py",
   "mimetype": "text/x-python",
   "name": "python",
   "nbconvert_exporter": "python",
   "pygments_lexer": "ipython3",
   "version": "3.8.17"
  }
 },
 "nbformat": 4,
 "nbformat_minor": 5
}
